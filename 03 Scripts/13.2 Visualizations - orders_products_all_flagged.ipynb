{
 "cells": [
  {
   "cell_type": "markdown",
   "id": "e0bb3113",
   "metadata": {},
   "source": [
    "# Table of Content\n",
    "01. Import Libraries\n",
    "02. Import Data\n",
    "03. Create and Export Visualizations: \n",
    "- (Q3) Simpler price range grouping\n",
    "- (Q4) Which departments have the highest frequency of product orders?"
   ]
  },
  {
   "cell_type": "markdown",
   "id": "2e12c400",
   "metadata": {},
   "source": [
    "# 01. Import Libraries"
   ]
  },
  {
   "cell_type": "code",
   "execution_count": 1,
   "id": "5608e703",
   "metadata": {},
   "outputs": [],
   "source": [
    "# Import libraries\n",
    "import pandas as pd\n",
    "import numpy as np\n",
    "import os\n",
    "import matplotlib.pyplot as plt\n",
    "import seaborn as sns\n",
    "import scipy"
   ]
  },
  {
   "cell_type": "code",
   "execution_count": 2,
   "id": "6941abd6",
   "metadata": {},
   "outputs": [],
   "source": [
    "# Adjust the setting to view all columns in this notebook\n",
    "pd.options.display.max_columns = None"
   ]
  },
  {
   "cell_type": "markdown",
   "id": "a3c28550",
   "metadata": {},
   "source": [
    "# 02. Import Data"
   ]
  },
  {
   "cell_type": "code",
   "execution_count": 3,
   "id": "8d11e2a6",
   "metadata": {},
   "outputs": [],
   "source": [
    "# Define the main folder project path\n",
    "path = r'C:\\Users\\saich\\Desktop\\CareerFoundry\\Data Immersion\\Achievement 4 Python Fundamentals for Data Analysts\\04-2023 Instacart Basket Analysis (github)'"
   ]
  },
  {
   "cell_type": "code",
   "execution_count": 4,
   "id": "7c863f51",
   "metadata": {},
   "outputs": [],
   "source": [
    "# Import 'orders_products_all_flagged' data set from 'Prepared Data' folder\n",
    "ords_prods_all = pd.read_pickle(os.path.join(path, '02 Data', 'Prepared Data', 'orders_products_all_flagged.pkl'))"
   ]
  },
  {
   "cell_type": "code",
   "execution_count": 5,
   "id": "d74cf39f",
   "metadata": {},
   "outputs": [
    {
     "data": {
      "text/html": [
       "<div>\n",
       "<style scoped>\n",
       "    .dataframe tbody tr th:only-of-type {\n",
       "        vertical-align: middle;\n",
       "    }\n",
       "\n",
       "    .dataframe tbody tr th {\n",
       "        vertical-align: top;\n",
       "    }\n",
       "\n",
       "    .dataframe thead th {\n",
       "        text-align: right;\n",
       "    }\n",
       "</style>\n",
       "<table border=\"1\" class=\"dataframe\">\n",
       "  <thead>\n",
       "    <tr style=\"text-align: right;\">\n",
       "      <th></th>\n",
       "      <th>order_id</th>\n",
       "      <th>user_id</th>\n",
       "      <th>order_number</th>\n",
       "      <th>order_day_of_week</th>\n",
       "      <th>order_hour_of_day</th>\n",
       "      <th>days_since_prior_order</th>\n",
       "      <th>product_id</th>\n",
       "      <th>add_to_cart_order</th>\n",
       "      <th>reordered</th>\n",
       "      <th>product_name</th>\n",
       "      <th>aisle_id</th>\n",
       "      <th>department_id</th>\n",
       "      <th>prices</th>\n",
       "      <th>price_range</th>\n",
       "      <th>busiest_day</th>\n",
       "      <th>busiest_days</th>\n",
       "      <th>busiest_period_of_day</th>\n",
       "      <th>max_order</th>\n",
       "      <th>loyalty_flag</th>\n",
       "      <th>avg_price</th>\n",
       "      <th>spender_flag</th>\n",
       "      <th>median_order_interval</th>\n",
       "      <th>order_frequency_flag</th>\n",
       "      <th>gender</th>\n",
       "      <th>state</th>\n",
       "      <th>age</th>\n",
       "      <th>date_joined</th>\n",
       "      <th>dependant_counts</th>\n",
       "      <th>family_status</th>\n",
       "      <th>income</th>\n",
       "      <th>_merge</th>\n",
       "      <th>region</th>\n",
       "      <th>customer_profile</th>\n",
       "      <th>income_flag</th>\n",
       "    </tr>\n",
       "  </thead>\n",
       "  <tbody>\n",
       "    <tr>\n",
       "      <th>0</th>\n",
       "      <td>2539329</td>\n",
       "      <td>1</td>\n",
       "      <td>1</td>\n",
       "      <td>2</td>\n",
       "      <td>8</td>\n",
       "      <td>NaN</td>\n",
       "      <td>196</td>\n",
       "      <td>1</td>\n",
       "      <td>0</td>\n",
       "      <td>Soda</td>\n",
       "      <td>77</td>\n",
       "      <td>7</td>\n",
       "      <td>9.0</td>\n",
       "      <td>Mid-range product</td>\n",
       "      <td>Regular busy</td>\n",
       "      <td>Regular busy</td>\n",
       "      <td>Average orders</td>\n",
       "      <td>10</td>\n",
       "      <td>New customer</td>\n",
       "      <td>6.367797</td>\n",
       "      <td>Low spender</td>\n",
       "      <td>20.5</td>\n",
       "      <td>Non-frequent customer</td>\n",
       "      <td>Female</td>\n",
       "      <td>Alabama</td>\n",
       "      <td>31</td>\n",
       "      <td>2/17/2019</td>\n",
       "      <td>3</td>\n",
       "      <td>married</td>\n",
       "      <td>40423</td>\n",
       "      <td>both</td>\n",
       "      <td>South</td>\n",
       "      <td>Big family</td>\n",
       "      <td>Low income</td>\n",
       "    </tr>\n",
       "    <tr>\n",
       "      <th>1</th>\n",
       "      <td>2398795</td>\n",
       "      <td>1</td>\n",
       "      <td>2</td>\n",
       "      <td>3</td>\n",
       "      <td>7</td>\n",
       "      <td>15.0</td>\n",
       "      <td>196</td>\n",
       "      <td>1</td>\n",
       "      <td>1</td>\n",
       "      <td>Soda</td>\n",
       "      <td>77</td>\n",
       "      <td>7</td>\n",
       "      <td>9.0</td>\n",
       "      <td>Mid-range product</td>\n",
       "      <td>Regular busy</td>\n",
       "      <td>Least busy</td>\n",
       "      <td>Average orders</td>\n",
       "      <td>10</td>\n",
       "      <td>New customer</td>\n",
       "      <td>6.367797</td>\n",
       "      <td>Low spender</td>\n",
       "      <td>20.5</td>\n",
       "      <td>Non-frequent customer</td>\n",
       "      <td>Female</td>\n",
       "      <td>Alabama</td>\n",
       "      <td>31</td>\n",
       "      <td>2/17/2019</td>\n",
       "      <td>3</td>\n",
       "      <td>married</td>\n",
       "      <td>40423</td>\n",
       "      <td>both</td>\n",
       "      <td>South</td>\n",
       "      <td>Big family</td>\n",
       "      <td>Low income</td>\n",
       "    </tr>\n",
       "    <tr>\n",
       "      <th>2</th>\n",
       "      <td>473747</td>\n",
       "      <td>1</td>\n",
       "      <td>3</td>\n",
       "      <td>3</td>\n",
       "      <td>12</td>\n",
       "      <td>21.0</td>\n",
       "      <td>196</td>\n",
       "      <td>1</td>\n",
       "      <td>1</td>\n",
       "      <td>Soda</td>\n",
       "      <td>77</td>\n",
       "      <td>7</td>\n",
       "      <td>9.0</td>\n",
       "      <td>Mid-range product</td>\n",
       "      <td>Regular busy</td>\n",
       "      <td>Least busy</td>\n",
       "      <td>Most orders</td>\n",
       "      <td>10</td>\n",
       "      <td>New customer</td>\n",
       "      <td>6.367797</td>\n",
       "      <td>Low spender</td>\n",
       "      <td>20.5</td>\n",
       "      <td>Non-frequent customer</td>\n",
       "      <td>Female</td>\n",
       "      <td>Alabama</td>\n",
       "      <td>31</td>\n",
       "      <td>2/17/2019</td>\n",
       "      <td>3</td>\n",
       "      <td>married</td>\n",
       "      <td>40423</td>\n",
       "      <td>both</td>\n",
       "      <td>South</td>\n",
       "      <td>Big family</td>\n",
       "      <td>Low income</td>\n",
       "    </tr>\n",
       "    <tr>\n",
       "      <th>3</th>\n",
       "      <td>2254736</td>\n",
       "      <td>1</td>\n",
       "      <td>4</td>\n",
       "      <td>4</td>\n",
       "      <td>7</td>\n",
       "      <td>29.0</td>\n",
       "      <td>196</td>\n",
       "      <td>1</td>\n",
       "      <td>1</td>\n",
       "      <td>Soda</td>\n",
       "      <td>77</td>\n",
       "      <td>7</td>\n",
       "      <td>9.0</td>\n",
       "      <td>Mid-range product</td>\n",
       "      <td>Least busy</td>\n",
       "      <td>Least busy</td>\n",
       "      <td>Average orders</td>\n",
       "      <td>10</td>\n",
       "      <td>New customer</td>\n",
       "      <td>6.367797</td>\n",
       "      <td>Low spender</td>\n",
       "      <td>20.5</td>\n",
       "      <td>Non-frequent customer</td>\n",
       "      <td>Female</td>\n",
       "      <td>Alabama</td>\n",
       "      <td>31</td>\n",
       "      <td>2/17/2019</td>\n",
       "      <td>3</td>\n",
       "      <td>married</td>\n",
       "      <td>40423</td>\n",
       "      <td>both</td>\n",
       "      <td>South</td>\n",
       "      <td>Big family</td>\n",
       "      <td>Low income</td>\n",
       "    </tr>\n",
       "    <tr>\n",
       "      <th>4</th>\n",
       "      <td>431534</td>\n",
       "      <td>1</td>\n",
       "      <td>5</td>\n",
       "      <td>4</td>\n",
       "      <td>15</td>\n",
       "      <td>28.0</td>\n",
       "      <td>196</td>\n",
       "      <td>1</td>\n",
       "      <td>1</td>\n",
       "      <td>Soda</td>\n",
       "      <td>77</td>\n",
       "      <td>7</td>\n",
       "      <td>9.0</td>\n",
       "      <td>Mid-range product</td>\n",
       "      <td>Least busy</td>\n",
       "      <td>Least busy</td>\n",
       "      <td>Most orders</td>\n",
       "      <td>10</td>\n",
       "      <td>New customer</td>\n",
       "      <td>6.367797</td>\n",
       "      <td>Low spender</td>\n",
       "      <td>20.5</td>\n",
       "      <td>Non-frequent customer</td>\n",
       "      <td>Female</td>\n",
       "      <td>Alabama</td>\n",
       "      <td>31</td>\n",
       "      <td>2/17/2019</td>\n",
       "      <td>3</td>\n",
       "      <td>married</td>\n",
       "      <td>40423</td>\n",
       "      <td>both</td>\n",
       "      <td>South</td>\n",
       "      <td>Big family</td>\n",
       "      <td>Low income</td>\n",
       "    </tr>\n",
       "  </tbody>\n",
       "</table>\n",
       "</div>"
      ],
      "text/plain": [
       "   order_id  user_id  order_number  order_day_of_week  order_hour_of_day  \\\n",
       "0   2539329        1             1                  2                  8   \n",
       "1   2398795        1             2                  3                  7   \n",
       "2    473747        1             3                  3                 12   \n",
       "3   2254736        1             4                  4                  7   \n",
       "4    431534        1             5                  4                 15   \n",
       "\n",
       "   days_since_prior_order  product_id  add_to_cart_order  reordered  \\\n",
       "0                     NaN         196                  1          0   \n",
       "1                    15.0         196                  1          1   \n",
       "2                    21.0         196                  1          1   \n",
       "3                    29.0         196                  1          1   \n",
       "4                    28.0         196                  1          1   \n",
       "\n",
       "  product_name  aisle_id  department_id  prices        price_range  \\\n",
       "0         Soda        77              7     9.0  Mid-range product   \n",
       "1         Soda        77              7     9.0  Mid-range product   \n",
       "2         Soda        77              7     9.0  Mid-range product   \n",
       "3         Soda        77              7     9.0  Mid-range product   \n",
       "4         Soda        77              7     9.0  Mid-range product   \n",
       "\n",
       "    busiest_day  busiest_days busiest_period_of_day  max_order  loyalty_flag  \\\n",
       "0  Regular busy  Regular busy        Average orders         10  New customer   \n",
       "1  Regular busy    Least busy        Average orders         10  New customer   \n",
       "2  Regular busy    Least busy           Most orders         10  New customer   \n",
       "3    Least busy    Least busy        Average orders         10  New customer   \n",
       "4    Least busy    Least busy           Most orders         10  New customer   \n",
       "\n",
       "   avg_price spender_flag  median_order_interval   order_frequency_flag  \\\n",
       "0   6.367797  Low spender                   20.5  Non-frequent customer   \n",
       "1   6.367797  Low spender                   20.5  Non-frequent customer   \n",
       "2   6.367797  Low spender                   20.5  Non-frequent customer   \n",
       "3   6.367797  Low spender                   20.5  Non-frequent customer   \n",
       "4   6.367797  Low spender                   20.5  Non-frequent customer   \n",
       "\n",
       "   gender    state  age date_joined  dependant_counts family_status  income  \\\n",
       "0  Female  Alabama   31   2/17/2019                 3       married   40423   \n",
       "1  Female  Alabama   31   2/17/2019                 3       married   40423   \n",
       "2  Female  Alabama   31   2/17/2019                 3       married   40423   \n",
       "3  Female  Alabama   31   2/17/2019                 3       married   40423   \n",
       "4  Female  Alabama   31   2/17/2019                 3       married   40423   \n",
       "\n",
       "  _merge region customer_profile income_flag  \n",
       "0   both  South       Big family  Low income  \n",
       "1   both  South       Big family  Low income  \n",
       "2   both  South       Big family  Low income  \n",
       "3   both  South       Big family  Low income  \n",
       "4   both  South       Big family  Low income  "
      ]
     },
     "execution_count": 5,
     "metadata": {},
     "output_type": "execute_result"
    }
   ],
   "source": [
    "ords_prods_all.head()"
   ]
  },
  {
   "cell_type": "code",
   "execution_count": 6,
   "id": "2c64ffd1",
   "metadata": {},
   "outputs": [
    {
     "data": {
      "text/plain": [
       "(32399732, 34)"
      ]
     },
     "execution_count": 6,
     "metadata": {},
     "output_type": "execute_result"
    }
   ],
   "source": [
    "ords_prods_all.shape"
   ]
  },
  {
   "cell_type": "markdown",
   "id": "d2139175",
   "metadata": {},
   "source": [
    "# 03. Create and Export Visualizations"
   ]
  },
  {
   "cell_type": "markdown",
   "id": "ccc99d73",
   "metadata": {},
   "source": [
    "### (Q3) Simpler price range groupings\n",
    "- 01. Pie chart: proportion of products vs price_range\n",
    "- 02. Percentage stacked bar chart: number of products vs price_range in each department\n",
    "- 03. Bar chart: number of orders vs price_range\n",
    "- 04. Percentage stacked bar chart: price_range vs spender_flag\n",
    "- 05. Bar chart: no of users vs spender_flag\n",
    "- 06. Pie chart: proportion of different income users in high spender"
   ]
  },
  {
   "cell_type": "markdown",
   "id": "aad9e207",
   "metadata": {},
   "source": [
    "#### Q3_01. Pie chart: proportion of products vs price_range"
   ]
  },
  {
   "cell_type": "code",
   "execution_count": 8,
   "id": "49c10ec6",
   "metadata": {},
   "outputs": [
    {
     "data": {
      "text/html": [
       "<div>\n",
       "<style scoped>\n",
       "    .dataframe tbody tr th:only-of-type {\n",
       "        vertical-align: middle;\n",
       "    }\n",
       "\n",
       "    .dataframe tbody tr th {\n",
       "        vertical-align: top;\n",
       "    }\n",
       "\n",
       "    .dataframe thead th {\n",
       "        text-align: right;\n",
       "    }\n",
       "</style>\n",
       "<table border=\"1\" class=\"dataframe\">\n",
       "  <thead>\n",
       "    <tr style=\"text-align: right;\">\n",
       "      <th></th>\n",
       "      <th>product_count</th>\n",
       "    </tr>\n",
       "    <tr>\n",
       "      <th>price_range</th>\n",
       "      <th></th>\n",
       "    </tr>\n",
       "  </thead>\n",
       "  <tbody>\n",
       "    <tr>\n",
       "      <th>High-range product</th>\n",
       "      <td>545</td>\n",
       "    </tr>\n",
       "    <tr>\n",
       "      <th>Low-range product</th>\n",
       "      <td>16291</td>\n",
       "    </tr>\n",
       "    <tr>\n",
       "      <th>Mid-range product</th>\n",
       "      <td>32822</td>\n",
       "    </tr>\n",
       "  </tbody>\n",
       "</table>\n",
       "</div>"
      ],
      "text/plain": [
       "                    product_count\n",
       "price_range                      \n",
       "High-range product            545\n",
       "Low-range product           16291\n",
       "Mid-range product           32822"
      ]
     },
     "execution_count": 8,
     "metadata": {},
     "output_type": "execute_result"
    }
   ],
   "source": [
    "# Find the number of products of each 'price_range'\n",
    "ords_prods_all.groupby('price_range').agg(product_count = ('product_id', 'nunique'))"
   ]
  },
  {
   "cell_type": "code",
   "execution_count": 10,
   "id": "70231603",
   "metadata": {
    "scrolled": false
   },
   "outputs": [
    {
     "data": {
      "image/png": "[encoded data removed]",
      "text/plain": [
       "<Figure size 640x480 with 1 Axes>"
      ]
     },
     "metadata": {},
     "output_type": "display_data"
    }
   ],
   "source": [
    "# Create a pie chart based on the frequency table above\n",
    "pie_prod_count_vs_price_range = ords_prods_all.groupby('price_range').agg(product_count = ('product_id', 'nunique')).plot.pie(y = 'product_count', title = 'Percentage of products across price range', ylabel = '', legend = False, autopct = '%1.0f%%')"
   ]
  },
  {
   "cell_type": "code",
   "execution_count": 11,
   "id": "bb665034",
   "metadata": {},
   "outputs": [],
   "source": [
    "# Export pie_prod_count_vs_price_range\n",
    "pie_prod_count_vs_price_range.figure.savefig(os.path.join(path, '04 Analysis', 'Visualizations', 'Q3', 'Q3_01 (pie) prod_count vs price_range.png'))"
   ]
  },
  {
   "cell_type": "markdown",
   "id": "cf762325",
   "metadata": {},
   "source": [
    "#### Q3_02: Percentage stacked bar chart: number of products vs price_range in each department"
   ]
  },
  {
   "cell_type": "code",
   "execution_count": 12,
   "id": "5e047765",
   "metadata": {
    "scrolled": true
   },
   "outputs": [
    {
     "data": {
      "text/html": [
       "<div>\n",
       "<style scoped>\n",
       "    .dataframe tbody tr th:only-of-type {\n",
       "        vertical-align: middle;\n",
       "    }\n",
       "\n",
       "    .dataframe tbody tr th {\n",
       "        vertical-align: top;\n",
       "    }\n",
       "\n",
       "    .dataframe thead th {\n",
       "        text-align: right;\n",
       "    }\n",
       "</style>\n",
       "<table border=\"1\" class=\"dataframe\">\n",
       "  <thead>\n",
       "    <tr style=\"text-align: right;\">\n",
       "      <th>price_range</th>\n",
       "      <th>High-range product</th>\n",
       "      <th>Low-range product</th>\n",
       "      <th>Mid-range product</th>\n",
       "    </tr>\n",
       "    <tr>\n",
       "      <th>department_id</th>\n",
       "      <th></th>\n",
       "      <th></th>\n",
       "      <th></th>\n",
       "    </tr>\n",
       "  </thead>\n",
       "  <tbody>\n",
       "    <tr>\n",
       "      <th>1</th>\n",
       "      <td>NaN</td>\n",
       "      <td>1214.0</td>\n",
       "      <td>2792.0</td>\n",
       "    </tr>\n",
       "    <tr>\n",
       "      <th>2</th>\n",
       "      <td>NaN</td>\n",
       "      <td>165.0</td>\n",
       "      <td>383.0</td>\n",
       "    </tr>\n",
       "    <tr>\n",
       "      <th>3</th>\n",
       "      <td>NaN</td>\n",
       "      <td>417.0</td>\n",
       "      <td>1098.0</td>\n",
       "    </tr>\n",
       "    <tr>\n",
       "      <th>4</th>\n",
       "      <td>NaN</td>\n",
       "      <td>483.0</td>\n",
       "      <td>1201.0</td>\n",
       "    </tr>\n",
       "    <tr>\n",
       "      <th>5</th>\n",
       "      <td>NaN</td>\n",
       "      <td>295.0</td>\n",
       "      <td>759.0</td>\n",
       "    </tr>\n",
       "    <tr>\n",
       "      <th>6</th>\n",
       "      <td>NaN</td>\n",
       "      <td>317.0</td>\n",
       "      <td>822.0</td>\n",
       "    </tr>\n",
       "    <tr>\n",
       "      <th>7</th>\n",
       "      <td>NaN</td>\n",
       "      <td>1257.0</td>\n",
       "      <td>3104.0</td>\n",
       "    </tr>\n",
       "    <tr>\n",
       "      <th>8</th>\n",
       "      <td>NaN</td>\n",
       "      <td>281.0</td>\n",
       "      <td>690.0</td>\n",
       "    </tr>\n",
       "    <tr>\n",
       "      <th>9</th>\n",
       "      <td>NaN</td>\n",
       "      <td>521.0</td>\n",
       "      <td>1337.0</td>\n",
       "    </tr>\n",
       "    <tr>\n",
       "      <th>10</th>\n",
       "      <td>NaN</td>\n",
       "      <td>6.0</td>\n",
       "      <td>32.0</td>\n",
       "    </tr>\n",
       "    <tr>\n",
       "      <th>11</th>\n",
       "      <td>NaN</td>\n",
       "      <td>1857.0</td>\n",
       "      <td>4703.0</td>\n",
       "    </tr>\n",
       "    <tr>\n",
       "      <th>12</th>\n",
       "      <td>544.0</td>\n",
       "      <td>NaN</td>\n",
       "      <td>362.0</td>\n",
       "    </tr>\n",
       "    <tr>\n",
       "      <th>13</th>\n",
       "      <td>1.0</td>\n",
       "      <td>1575.0</td>\n",
       "      <td>3792.0</td>\n",
       "    </tr>\n",
       "    <tr>\n",
       "      <th>14</th>\n",
       "      <td>NaN</td>\n",
       "      <td>332.0</td>\n",
       "      <td>781.0</td>\n",
       "    </tr>\n",
       "    <tr>\n",
       "      <th>15</th>\n",
       "      <td>NaN</td>\n",
       "      <td>593.0</td>\n",
       "      <td>1499.0</td>\n",
       "    </tr>\n",
       "    <tr>\n",
       "      <th>16</th>\n",
       "      <td>NaN</td>\n",
       "      <td>987.0</td>\n",
       "      <td>2455.0</td>\n",
       "    </tr>\n",
       "    <tr>\n",
       "      <th>17</th>\n",
       "      <td>NaN</td>\n",
       "      <td>911.0</td>\n",
       "      <td>2172.0</td>\n",
       "    </tr>\n",
       "    <tr>\n",
       "      <th>18</th>\n",
       "      <td>NaN</td>\n",
       "      <td>299.0</td>\n",
       "      <td>782.0</td>\n",
       "    </tr>\n",
       "    <tr>\n",
       "      <th>19</th>\n",
       "      <td>NaN</td>\n",
       "      <td>4031.0</td>\n",
       "      <td>2232.0</td>\n",
       "    </tr>\n",
       "    <tr>\n",
       "      <th>20</th>\n",
       "      <td>NaN</td>\n",
       "      <td>397.0</td>\n",
       "      <td>925.0</td>\n",
       "    </tr>\n",
       "    <tr>\n",
       "      <th>21</th>\n",
       "      <td>NaN</td>\n",
       "      <td>353.0</td>\n",
       "      <td>902.0</td>\n",
       "    </tr>\n",
       "  </tbody>\n",
       "</table>\n",
       "</div>"
      ],
      "text/plain": [
       "price_range    High-range product  Low-range product  Mid-range product\n",
       "department_id                                                          \n",
       "1                             NaN             1214.0             2792.0\n",
       "2                             NaN              165.0              383.0\n",
       "3                             NaN              417.0             1098.0\n",
       "4                             NaN              483.0             1201.0\n",
       "5                             NaN              295.0              759.0\n",
       "6                             NaN              317.0              822.0\n",
       "7                             NaN             1257.0             3104.0\n",
       "8                             NaN              281.0              690.0\n",
       "9                             NaN              521.0             1337.0\n",
       "10                            NaN                6.0               32.0\n",
       "11                            NaN             1857.0             4703.0\n",
       "12                          544.0                NaN              362.0\n",
       "13                            1.0             1575.0             3792.0\n",
       "14                            NaN              332.0              781.0\n",
       "15                            NaN              593.0             1499.0\n",
       "16                            NaN              987.0             2455.0\n",
       "17                            NaN              911.0             2172.0\n",
       "18                            NaN              299.0              782.0\n",
       "19                            NaN             4031.0             2232.0\n",
       "20                            NaN              397.0              925.0\n",
       "21                            NaN              353.0              902.0"
      ]
     },
     "execution_count": 12,
     "metadata": {},
     "output_type": "execute_result"
    }
   ],
   "source": [
    "# Find the number of products across different 'price_range' in each department\n",
    "ct_dept_prod_count_vs_price_range = pd.crosstab(ords_prods_all['department_id'], ords_prods_all['price_range'], values = ords_prods_all['product_id'], aggfunc = 'nunique')\n",
    "ct_dept_prod_count_vs_price_range"
   ]
  },
  {
   "cell_type": "code",
   "execution_count": 13,
   "id": "56a2b46b",
   "metadata": {
    "scrolled": true
   },
   "outputs": [
    {
     "data": {
      "text/html": [
       "<div>\n",
       "<style scoped>\n",
       "    .dataframe tbody tr th:only-of-type {\n",
       "        vertical-align: middle;\n",
       "    }\n",
       "\n",
       "    .dataframe tbody tr th {\n",
       "        vertical-align: top;\n",
       "    }\n",
       "\n",
       "    .dataframe thead th {\n",
       "        text-align: right;\n",
       "    }\n",
       "</style>\n",
       "<table border=\"1\" class=\"dataframe\">\n",
       "  <thead>\n",
       "    <tr style=\"text-align: right;\">\n",
       "      <th>price_range</th>\n",
       "      <th>High-range product</th>\n",
       "      <th>Low-range product</th>\n",
       "      <th>Mid-range product</th>\n",
       "    </tr>\n",
       "    <tr>\n",
       "      <th>department_id</th>\n",
       "      <th></th>\n",
       "      <th></th>\n",
       "      <th></th>\n",
       "    </tr>\n",
       "  </thead>\n",
       "  <tbody>\n",
       "    <tr>\n",
       "      <th>1</th>\n",
       "      <td>NaN</td>\n",
       "      <td>0.303045</td>\n",
       "      <td>0.696955</td>\n",
       "    </tr>\n",
       "    <tr>\n",
       "      <th>2</th>\n",
       "      <td>NaN</td>\n",
       "      <td>0.301095</td>\n",
       "      <td>0.698905</td>\n",
       "    </tr>\n",
       "    <tr>\n",
       "      <th>3</th>\n",
       "      <td>NaN</td>\n",
       "      <td>0.275248</td>\n",
       "      <td>0.724752</td>\n",
       "    </tr>\n",
       "    <tr>\n",
       "      <th>4</th>\n",
       "      <td>NaN</td>\n",
       "      <td>0.286817</td>\n",
       "      <td>0.713183</td>\n",
       "    </tr>\n",
       "    <tr>\n",
       "      <th>5</th>\n",
       "      <td>NaN</td>\n",
       "      <td>0.279886</td>\n",
       "      <td>0.720114</td>\n",
       "    </tr>\n",
       "    <tr>\n",
       "      <th>6</th>\n",
       "      <td>NaN</td>\n",
       "      <td>0.278314</td>\n",
       "      <td>0.721686</td>\n",
       "    </tr>\n",
       "    <tr>\n",
       "      <th>7</th>\n",
       "      <td>NaN</td>\n",
       "      <td>0.288237</td>\n",
       "      <td>0.711763</td>\n",
       "    </tr>\n",
       "    <tr>\n",
       "      <th>8</th>\n",
       "      <td>NaN</td>\n",
       "      <td>0.289392</td>\n",
       "      <td>0.710608</td>\n",
       "    </tr>\n",
       "    <tr>\n",
       "      <th>9</th>\n",
       "      <td>NaN</td>\n",
       "      <td>0.280409</td>\n",
       "      <td>0.719591</td>\n",
       "    </tr>\n",
       "    <tr>\n",
       "      <th>10</th>\n",
       "      <td>NaN</td>\n",
       "      <td>0.157895</td>\n",
       "      <td>0.842105</td>\n",
       "    </tr>\n",
       "    <tr>\n",
       "      <th>11</th>\n",
       "      <td>NaN</td>\n",
       "      <td>0.283079</td>\n",
       "      <td>0.716921</td>\n",
       "    </tr>\n",
       "    <tr>\n",
       "      <th>12</th>\n",
       "      <td>0.600442</td>\n",
       "      <td>NaN</td>\n",
       "      <td>0.399558</td>\n",
       "    </tr>\n",
       "    <tr>\n",
       "      <th>13</th>\n",
       "      <td>0.000186</td>\n",
       "      <td>0.293405</td>\n",
       "      <td>0.706408</td>\n",
       "    </tr>\n",
       "    <tr>\n",
       "      <th>14</th>\n",
       "      <td>NaN</td>\n",
       "      <td>0.298293</td>\n",
       "      <td>0.701707</td>\n",
       "    </tr>\n",
       "    <tr>\n",
       "      <th>15</th>\n",
       "      <td>NaN</td>\n",
       "      <td>0.283461</td>\n",
       "      <td>0.716539</td>\n",
       "    </tr>\n",
       "    <tr>\n",
       "      <th>16</th>\n",
       "      <td>NaN</td>\n",
       "      <td>0.286752</td>\n",
       "      <td>0.713248</td>\n",
       "    </tr>\n",
       "    <tr>\n",
       "      <th>17</th>\n",
       "      <td>NaN</td>\n",
       "      <td>0.295491</td>\n",
       "      <td>0.704509</td>\n",
       "    </tr>\n",
       "    <tr>\n",
       "      <th>18</th>\n",
       "      <td>NaN</td>\n",
       "      <td>0.276596</td>\n",
       "      <td>0.723404</td>\n",
       "    </tr>\n",
       "    <tr>\n",
       "      <th>19</th>\n",
       "      <td>NaN</td>\n",
       "      <td>0.643621</td>\n",
       "      <td>0.356379</td>\n",
       "    </tr>\n",
       "    <tr>\n",
       "      <th>20</th>\n",
       "      <td>NaN</td>\n",
       "      <td>0.300303</td>\n",
       "      <td>0.699697</td>\n",
       "    </tr>\n",
       "    <tr>\n",
       "      <th>21</th>\n",
       "      <td>NaN</td>\n",
       "      <td>0.281275</td>\n",
       "      <td>0.718725</td>\n",
       "    </tr>\n",
       "  </tbody>\n",
       "</table>\n",
       "</div>"
      ],
      "text/plain": [
       "price_range    High-range product  Low-range product  Mid-range product\n",
       "department_id                                                          \n",
       "1                             NaN           0.303045           0.696955\n",
       "2                             NaN           0.301095           0.698905\n",
       "3                             NaN           0.275248           0.724752\n",
       "4                             NaN           0.286817           0.713183\n",
       "5                             NaN           0.279886           0.720114\n",
       "6                             NaN           0.278314           0.721686\n",
       "7                             NaN           0.288237           0.711763\n",
       "8                             NaN           0.289392           0.710608\n",
       "9                             NaN           0.280409           0.719591\n",
       "10                            NaN           0.157895           0.842105\n",
       "11                            NaN           0.283079           0.716921\n",
       "12                       0.600442                NaN           0.399558\n",
       "13                       0.000186           0.293405           0.706408\n",
       "14                            NaN           0.298293           0.701707\n",
       "15                            NaN           0.283461           0.716539\n",
       "16                            NaN           0.286752           0.713248\n",
       "17                            NaN           0.295491           0.704509\n",
       "18                            NaN           0.276596           0.723404\n",
       "19                            NaN           0.643621           0.356379\n",
       "20                            NaN           0.300303           0.699697\n",
       "21                            NaN           0.281275           0.718725"
      ]
     },
     "execution_count": 13,
     "metadata": {},
     "output_type": "execute_result"
    }
   ],
   "source": [
    "# Convert the values in 'ct_dept_prod_count_vs_price_range' into a percentage of each row\n",
    "ct_percent_dept_prod_count_vs_price_range = ct_dept_prod_count_vs_price_range.div(ct_dept_prod_count_vs_price_range.sum(axis = 1), axis = 0)\n",
    "ct_percent_dept_prod_count_vs_price_range"
   ]
  },
  {
   "cell_type": "code",
   "execution_count": 14,
   "id": "4b85e40e",
   "metadata": {},
   "outputs": [
    {
     "data": {
      "image/png": "[encoded data removed]",
      "text/plain": [
       "<Figure size 640x480 with 1 Axes>"
      ]
     },
     "metadata": {},
     "output_type": "display_data"
    }
   ],
   "source": [
    "# Create the percentage bar chart of number of products vs price_range in each department\n",
    "percent_bar_dept_prod_count_vs_price_range = ct_percent_dept_prod_count_vs_price_range.plot.bar(stacked = True, title = 'Percentage of product across price range in each department', xlabel = 'department ID', ylabel = 'percentage of products')"
   ]
  },
  {
   "cell_type": "code",
   "execution_count": 15,
   "id": "8556c20f",
   "metadata": {},
   "outputs": [],
   "source": [
    "# Export percent_bar_dept_prod_count_vs_price_range\n",
    "percent_bar_dept_prod_count_vs_price_range.figure.savefig(os.path.join(path, '04 Analysis', 'Visualizations', 'Q3', 'Q3_02 (percent bar) dept_prod_count vs price_range.png'))"
   ]
  },
  {
   "cell_type": "markdown",
   "id": "784753ec",
   "metadata": {},
   "source": [
    "#### Q3_03. Bar chart: no of orders vs price_range"
   ]
  },
  {
   "cell_type": "code",
   "execution_count": 16,
   "id": "4f49db46",
   "metadata": {},
   "outputs": [
    {
     "data": {
      "text/plain": [
       "High-range product      412551\n",
       "Low-range product     10126321\n",
       "Mid-range product     21860860\n",
       "Name: price_range, dtype: int64"
      ]
     },
     "execution_count": 16,
     "metadata": {},
     "output_type": "execute_result"
    }
   ],
   "source": [
    "# Find the number of orders across 'price_range'\n",
    "ords_prods_all['price_range'].value_counts(dropna = False).sort_index()"
   ]
  },
  {
   "cell_type": "code",
   "execution_count": 17,
   "id": "e0f93dd0",
   "metadata": {},
   "outputs": [
    {
     "data": {
      "image/png": "[encoded data removed]",
      "text/plain": [
       "<Figure size 640x480 with 1 Axes>"
      ]
     },
     "metadata": {},
     "output_type": "display_data"
    }
   ],
   "source": [
    "# Create a bar chart based on the frequency table above\n",
    "bar_order_count_vs_price_range = ords_prods_all['price_range'].value_counts(dropna = False).sort_index().plot.bar(title = 'Number of orders across price range', xlabel = 'price range', ylabel = 'number of orders')\n",
    "plt.subplots_adjust(bottom = 0.35)"
   ]
  },
  {
   "cell_type": "code",
   "execution_count": 18,
   "id": "ab973406",
   "metadata": {},
   "outputs": [],
   "source": [
    "# Export bar_order_count_vs_price_range\n",
    "bar_order_count_vs_price_range.figure.savefig(os.path.join(path, '04 Analysis', 'Visualizations', 'Q3', 'Q3_03 (bar) order_count vs price_range.png'))"
   ]
  },
  {
   "cell_type": "markdown",
   "id": "43159473",
   "metadata": {},
   "source": [
    "#### Q3_04. Percentage stacked bar chart: price_range vs spender_flag"
   ]
  },
  {
   "cell_type": "code",
   "execution_count": 19,
   "id": "b56bbae2",
   "metadata": {},
   "outputs": [
    {
     "data": {
      "text/html": [
       "<div>\n",
       "<style scoped>\n",
       "    .dataframe tbody tr th:only-of-type {\n",
       "        vertical-align: middle;\n",
       "    }\n",
       "\n",
       "    .dataframe tbody tr th {\n",
       "        vertical-align: top;\n",
       "    }\n",
       "\n",
       "    .dataframe thead th {\n",
       "        text-align: right;\n",
       "    }\n",
       "</style>\n",
       "<table border=\"1\" class=\"dataframe\">\n",
       "  <thead>\n",
       "    <tr style=\"text-align: right;\">\n",
       "      <th>price_range</th>\n",
       "      <th>High-range product</th>\n",
       "      <th>Low-range product</th>\n",
       "      <th>Mid-range product</th>\n",
       "    </tr>\n",
       "    <tr>\n",
       "      <th>spender_flag</th>\n",
       "      <th></th>\n",
       "      <th></th>\n",
       "      <th></th>\n",
       "    </tr>\n",
       "  </thead>\n",
       "  <tbody>\n",
       "    <tr>\n",
       "      <th>High spender</th>\n",
       "      <td>8258</td>\n",
       "      <td>16738</td>\n",
       "      <td>94723</td>\n",
       "    </tr>\n",
       "    <tr>\n",
       "      <th>Low spender</th>\n",
       "      <td>404293</td>\n",
       "      <td>10109583</td>\n",
       "      <td>21766137</td>\n",
       "    </tr>\n",
       "  </tbody>\n",
       "</table>\n",
       "</div>"
      ],
      "text/plain": [
       "price_range   High-range product  Low-range product  Mid-range product\n",
       "spender_flag                                                          \n",
       "High spender                8258              16738              94723\n",
       "Low spender               404293           10109583           21766137"
      ]
     },
     "execution_count": 19,
     "metadata": {},
     "output_type": "execute_result"
    }
   ],
   "source": [
    "# Find the number of orders of different 'price_range' across different 'spender_flag'\n",
    "ct_price_range_vs_spender_flag = pd.crosstab(ords_prods_all['spender_flag'], ords_prods_all['price_range'])\n",
    "ct_price_range_vs_spender_flag"
   ]
  },
  {
   "cell_type": "code",
   "execution_count": 20,
   "id": "7653c9f4",
   "metadata": {},
   "outputs": [
    {
     "data": {
      "text/html": [
       "<div>\n",
       "<style scoped>\n",
       "    .dataframe tbody tr th:only-of-type {\n",
       "        vertical-align: middle;\n",
       "    }\n",
       "\n",
       "    .dataframe tbody tr th {\n",
       "        vertical-align: top;\n",
       "    }\n",
       "\n",
       "    .dataframe thead th {\n",
       "        text-align: right;\n",
       "    }\n",
       "</style>\n",
       "<table border=\"1\" class=\"dataframe\">\n",
       "  <thead>\n",
       "    <tr style=\"text-align: right;\">\n",
       "      <th>price_range</th>\n",
       "      <th>High-range product</th>\n",
       "      <th>Low-range product</th>\n",
       "      <th>Mid-range product</th>\n",
       "    </tr>\n",
       "    <tr>\n",
       "      <th>spender_flag</th>\n",
       "      <th></th>\n",
       "      <th></th>\n",
       "      <th></th>\n",
       "    </tr>\n",
       "  </thead>\n",
       "  <tbody>\n",
       "    <tr>\n",
       "      <th>High spender</th>\n",
       "      <td>0.068978</td>\n",
       "      <td>0.139811</td>\n",
       "      <td>0.791211</td>\n",
       "    </tr>\n",
       "    <tr>\n",
       "      <th>Low spender</th>\n",
       "      <td>0.012525</td>\n",
       "      <td>0.313184</td>\n",
       "      <td>0.674291</td>\n",
       "    </tr>\n",
       "  </tbody>\n",
       "</table>\n",
       "</div>"
      ],
      "text/plain": [
       "price_range   High-range product  Low-range product  Mid-range product\n",
       "spender_flag                                                          \n",
       "High spender            0.068978           0.139811           0.791211\n",
       "Low spender             0.012525           0.313184           0.674291"
      ]
     },
     "execution_count": 20,
     "metadata": {},
     "output_type": "execute_result"
    }
   ],
   "source": [
    "# Convert values in 'ct_price_range_vs_spender_flag' into a percentage of each row\n",
    "ct_percent_price_range_vs_spender_flag = ct_price_range_vs_spender_flag.div(ct_price_range_vs_spender_flag.sum(axis = 1), axis = 0)\n",
    "ct_percent_price_range_vs_spender_flag"
   ]
  },
  {
   "cell_type": "code",
   "execution_count": 22,
   "id": "5ee71d59",
   "metadata": {},
   "outputs": [
    {
     "data": {
      "image/png": "[encoded data removed]",
      "text/plain": [
       "<Figure size 640x480 with 1 Axes>"
      ]
     },
     "metadata": {},
     "output_type": "display_data"
    }
   ],
   "source": [
    "# Create the percentage bar chart of price_range vs spender_flag \n",
    "percent_bar_price_range_vs_spender_flag = ct_percent_price_range_vs_spender_flag.plot.bar(stacked = True, title = 'Percentage of product price range across spender flag', xlabel = 'spender flag', ylabel = 'percentage')\n",
    "plt.subplots_adjust(bottom = 0.30)"
   ]
  },
  {
   "cell_type": "code",
   "execution_count": 23,
   "id": "84f90416",
   "metadata": {},
   "outputs": [],
   "source": [
    "# Export percent_bar_price_range_vs_spender_flag\n",
    "percent_bar_price_range_vs_spender_flag.figure.savefig(os.path.join(path, '04 Analysis', 'Visualizations', 'Q3', 'Q3_04 (percent bar) price_range vs spender_flag.png'))"
   ]
  },
  {
   "cell_type": "markdown",
   "id": "ee557358",
   "metadata": {},
   "source": [
    "#### Q3_05. Bar chart: no of users vs spender_flag"
   ]
  },
  {
   "cell_type": "code",
   "execution_count": 24,
   "id": "a60a87b8",
   "metadata": {},
   "outputs": [
    {
     "data": {
      "text/plain": [
       "spender_flag\n",
       "High spender      3389\n",
       "Low spender     202820\n",
       "Name: user_id, dtype: int64"
      ]
     },
     "execution_count": 24,
     "metadata": {},
     "output_type": "execute_result"
    }
   ],
   "source": [
    "# Find the number of users across 'spender_flag'\n",
    "ords_prods_all.groupby('spender_flag')['user_id'].nunique().sort_index()"
   ]
  },
  {
   "cell_type": "code",
   "execution_count": 25,
   "id": "5d593c5f",
   "metadata": {},
   "outputs": [
    {
     "data": {
      "image/png": "[encoded data removed]",
      "text/plain": [
       "<Figure size 640x480 with 1 Axes>"
      ]
     },
     "metadata": {},
     "output_type": "display_data"
    }
   ],
   "source": [
    "# Create a bar chart based on the frequency table above\n",
    "bar_user_count_vs_spender_flag = ords_prods_all.groupby('spender_flag')['user_id'].nunique().sort_index().plot.bar(title = 'Number of customers across spender flag', xlabel = 'spender flag', ylabel = 'number of customers')\n",
    "plt.subplots_adjust(bottom = 0.30, left = 0.15)"
   ]
  },
  {
   "cell_type": "code",
   "execution_count": 26,
   "id": "b02c2b17",
   "metadata": {},
   "outputs": [],
   "source": [
    "# Export bar_user_count_vs_spender_flag\n",
    "bar_user_count_vs_spender_flag.figure.savefig(os.path.join(path, '04 Analysis', 'Visualizations', 'Q3', 'Q3_05 (bar) user_count vs spender_flag.png'))"
   ]
  },
  {
   "cell_type": "markdown",
   "id": "b4668859",
   "metadata": {},
   "source": [
    "#### Q3_06. Pie chart: proportion of different income users in high spender"
   ]
  },
  {
   "cell_type": "code",
   "execution_count": 27,
   "id": "713497b7",
   "metadata": {},
   "outputs": [],
   "source": [
    "# Create a sub-dataframe that contains only high spenders\n",
    "df_high_spender = ords_prods_all.loc[ords_prods_all['spender_flag'] == 'High spender', ['user_id', 'spender_flag', 'income_flag']]"
   ]
  },
  {
   "cell_type": "code",
   "execution_count": 28,
   "id": "b52891c9",
   "metadata": {},
   "outputs": [
    {
     "data": {
      "text/plain": [
       "High spender    119719\n",
       "Name: spender_flag, dtype: int64"
      ]
     },
     "execution_count": 28,
     "metadata": {},
     "output_type": "execute_result"
    }
   ],
   "source": [
    "# Ensure the sub-dataframe has only high spenders\n",
    "df_high_spender['spender_flag'].value_counts(dropna = False)"
   ]
  },
  {
   "cell_type": "code",
   "execution_count": 29,
   "id": "b725625a",
   "metadata": {},
   "outputs": [
    {
     "data": {
      "text/html": [
       "<div>\n",
       "<style scoped>\n",
       "    .dataframe tbody tr th:only-of-type {\n",
       "        vertical-align: middle;\n",
       "    }\n",
       "\n",
       "    .dataframe tbody tr th {\n",
       "        vertical-align: top;\n",
       "    }\n",
       "\n",
       "    .dataframe thead th {\n",
       "        text-align: right;\n",
       "    }\n",
       "</style>\n",
       "<table border=\"1\" class=\"dataframe\">\n",
       "  <thead>\n",
       "    <tr style=\"text-align: right;\">\n",
       "      <th></th>\n",
       "      <th>user_count</th>\n",
       "    </tr>\n",
       "    <tr>\n",
       "      <th>income_flag</th>\n",
       "      <th></th>\n",
       "    </tr>\n",
       "  </thead>\n",
       "  <tbody>\n",
       "    <tr>\n",
       "      <th>High income</th>\n",
       "      <td>1137</td>\n",
       "    </tr>\n",
       "    <tr>\n",
       "      <th>Low income</th>\n",
       "      <td>293</td>\n",
       "    </tr>\n",
       "    <tr>\n",
       "      <th>Medium income</th>\n",
       "      <td>1959</td>\n",
       "    </tr>\n",
       "  </tbody>\n",
       "</table>\n",
       "</div>"
      ],
      "text/plain": [
       "               user_count\n",
       "income_flag              \n",
       "High income          1137\n",
       "Low income            293\n",
       "Medium income        1959"
      ]
     },
     "execution_count": 29,
     "metadata": {},
     "output_type": "execute_result"
    }
   ],
   "source": [
    "# Find the number of users across different 'income_flag' \n",
    "df_high_spender.groupby('income_flag').agg(user_count = ('user_id', 'nunique'))"
   ]
  },
  {
   "cell_type": "code",
   "execution_count": 30,
   "id": "df47ca96",
   "metadata": {},
   "outputs": [
    {
     "data": {
      "image/png": "[encoded data removed]",
      "text/plain": [
       "<Figure size 640x480 with 1 Axes>"
      ]
     },
     "metadata": {},
     "output_type": "display_data"
    }
   ],
   "source": [
    "# Create a pie chart of different number of users across different 'income_flag' among high spenders\n",
    "pie_high_spender_user_count_vs_income_flag = df_high_spender.groupby('income_flag').agg(user_count = ('user_id', 'nunique')).plot.pie(y = 'user_count', title = 'Percentage of customers across income flag in high spender',  ylabel = '', legend = False, autopct = '%1.0f%%')"
   ]
  },
  {
   "cell_type": "code",
   "execution_count": 31,
   "id": "ccc1929e",
   "metadata": {},
   "outputs": [],
   "source": [
    "# Export pie_high_spender_user_count_vs_income_flag\n",
    "pie_high_spender_user_count_vs_income_flag.figure.savefig(os.path.join(path, '04 Analysis', 'Visualizations', 'Q3', 'Q3_06 (pie) high_spender_user_count_vs_income_flag.png'))"
   ]
  },
  {
   "cell_type": "markdown",
   "id": "7eb78443",
   "metadata": {},
   "source": [
    "### (Q4) Which departments have the highest frequency of product orders?\n",
    "- 01. Bar chart: no of orders vs department_id\n",
    "- 02. Bar chart: no of orders vs department_id (sorted)"
   ]
  },
  {
   "cell_type": "markdown",
   "id": "91019d3b",
   "metadata": {},
   "source": [
    "#### Q4_01. Bar chart: no of orders vs department_id"
   ]
  },
  {
   "cell_type": "code",
   "execution_count": 32,
   "id": "1c79bffc",
   "metadata": {},
   "outputs": [
    {
     "data": {
      "text/plain": [
       "4     9479291\n",
       "16    5393620\n",
       "19    2887550\n",
       "7     2688123\n",
       "1     2234743\n",
       "13    1875369\n",
       "3     1172428\n",
       "15    1068058\n",
       "20    1051249\n",
       "9      866627\n",
       "17     738666\n",
       "12     708927\n",
       "14     703033\n",
       "11     447572\n",
       "18     423802\n",
       "6      269253\n",
       "5      153696\n",
       "8       97716\n",
       "21      69145\n",
       "2       36291\n",
       "10      34573\n",
       "Name: department_id, dtype: int64"
      ]
     },
     "execution_count": 32,
     "metadata": {},
     "output_type": "execute_result"
    }
   ],
   "source": [
    "# Find the number of orders acorss 'department_id'\n",
    "ords_prods_all['department_id'].value_counts(dropna = False)"
   ]
  },
  {
   "cell_type": "code",
   "execution_count": 33,
   "id": "915526d4",
   "metadata": {},
   "outputs": [
    {
     "data": {
      "image/png": "[encoded data removed]",
      "text/plain": [
       "<Figure size 640x480 with 1 Axes>"
      ]
     },
     "metadata": {},
     "output_type": "display_data"
    }
   ],
   "source": [
    "# Create a bar chart based on the frequency table above\n",
    "bar_order_count_vs_department_id = ords_prods_all['department_id'].value_counts(dropna = False).plot.bar(title = 'Number of orders across department ID', xlabel = 'department ID', ylabel = 'number of orders')"
   ]
  },
  {
   "cell_type": "code",
   "execution_count": 34,
   "id": "c22f19d7",
   "metadata": {},
   "outputs": [],
   "source": [
    "# Export bar_order_count_vs_department_id\n",
    "bar_order_count_vs_department_id.figure.savefig(os.path.join(path, '04 Analysis', 'Visualizations', 'Q4', 'Q4_01 (bar) order_count vs department_id.png'))"
   ]
  },
  {
   "cell_type": "markdown",
   "id": "724923bc",
   "metadata": {},
   "source": [
    "#### Q4_02. Bar chart: no of orders vs department_id (sorted)"
   ]
  },
  {
   "cell_type": "code",
   "execution_count": 35,
   "id": "99895e3f",
   "metadata": {},
   "outputs": [
    {
     "data": {
      "image/png": "[encoded data removed]",
      "text/plain": [
       "<Figure size 640x480 with 1 Axes>"
      ]
     },
     "metadata": {},
     "output_type": "display_data"
    }
   ],
   "source": [
    "# Create the same bar chart, with the 'department_id' sorted\n",
    "# This allows easier visual comparison with other charts later\n",
    "bar_order_count_vs_department_id_sorted = ords_prods_all['department_id'].value_counts(dropna = False).sort_index().plot.bar(title = 'Number of orders across department ID', xlabel = 'department ID', ylabel = 'number of orders')"
   ]
  },
  {
   "cell_type": "code",
   "execution_count": 36,
   "id": "7ab217d8",
   "metadata": {},
   "outputs": [],
   "source": [
    "# Export bar_order_count_vs_department_id_sorted\n",
    "bar_order_count_vs_department_id_sorted.figure.savefig(os.path.join(path, '04 Analysis', 'Visualizations', 'Q4', 'Q4_02 (bar) order_count vs department_id_sorted.png'))"
   ]
  },
  {
   "cell_type": "code",
   "execution_count": null,
   "id": "a7c16c43",
   "metadata": {},
   "outputs": [],
   "source": []
  }
 ],
 "metadata": {
  "kernelspec": {
   "display_name": "Python 3 (ipykernel)",
   "language": "python",
   "name": "python3"
  },
  "language_info": {
   "codemirror_mode": {
    "name": "ipython",
    "version": 3
   },
   "file_extension": ".py",
   "mimetype": "text/x-python",
   "name": "python",
   "nbconvert_exporter": "python",
   "pygments_lexer": "ipython3",
   "version": "3.10.9"
  },
  "varInspector": {
   "cols": {
    "lenName": 16,
    "lenType": 16,
    "lenVar": 40
   },
   "kernels_config": {
    "python": {
     "delete_cmd_postfix": "",
     "delete_cmd_prefix": "del ",
     "library": "var_list.py",
     "varRefreshCmd": "print(var_dic_list())"
    },
    "r": {
     "delete_cmd_postfix": ") ",
     "delete_cmd_prefix": "rm(",
     "library": "var_list.r",
     "varRefreshCmd": "cat(var_dic_list()) "
    }
   },
   "types_to_exclude": [
    "module",
    "function",
    "builtin_function_or_method",
    "instance",
    "_Feature"
   ],
   "window_display": false
  }
 },
 "nbformat": 4,
 "nbformat_minor": 5
}
